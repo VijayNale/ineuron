{
 "cells": [
  {
   "cell_type": "markdown",
   "metadata": {},
   "source": [
    "# Task 1:"
   ]
  },
  {
   "cell_type": "markdown",
   "metadata": {},
   "source": [
    "## Q 1.1"
   ]
  },
  {
   "cell_type": "code",
   "execution_count": 1,
   "metadata": {},
   "outputs": [
    {
     "name": "stdout",
     "output_type": "stream",
     "text": [
      "Find out Gretest num from the list:  89\n"
     ]
    }
   ],
   "source": [
    "def myreduce(func,lst):\n",
    "    # Get first item in sequence and assign to result\n",
    "    result = lst[0]\n",
    "    # iterate over remaining items in sequence and apply reduction function \n",
    "    for i in lst[1:]:\n",
    "        result = func(result,i)\n",
    "    return result\n",
    "\n",
    "def sum(x,y):\n",
    "    if x > y:\n",
    "        return x\n",
    "    else:\n",
    "        return y\n",
    "\n",
    "lst = [23,34,54,67,89,21,23]\n",
    "\n",
    "print('Find out Gretest num from the list: ', myreduce(sum,lst))"
   ]
  },
  {
   "cell_type": "markdown",
   "metadata": {},
   "source": [
    "## Q 1.2"
   ]
  },
  {
   "cell_type": "code",
   "execution_count": 2,
   "metadata": {},
   "outputs": [
    {
     "name": "stdout",
     "output_type": "stream",
     "text": [
      "Find out even num from the list [4, 34, 54, 44, 6, 10]\n"
     ]
    }
   ],
   "source": [
    "result = []\n",
    "def myfilter(func,lst):\n",
    "    # iterate over  items in sequence and apply filter function \n",
    "    for i in lst:\n",
    "        if(func(i)):\n",
    "            result.append(i)\n",
    "\n",
    "    return result\n",
    "\n",
    "def even(i):\n",
    "    if i%2 == 0:\n",
    "        return True\n",
    "    else:\n",
    "        return False\n",
    "    \n",
    "lst = [4,23,34,54,67,89,21,23,44,21,5,6,9,10]\n",
    "\n",
    "print('Find out even num from the list', myfilter(even,lst))"
   ]
  },
  {
   "cell_type": "markdown",
   "metadata": {},
   "source": [
    "## Q 2"
   ]
  },
  {
   "cell_type": "code",
   "execution_count": 3,
   "metadata": {},
   "outputs": [
    {
     "name": "stdout",
     "output_type": "stream",
     "text": [
      "['A', 'C', 'A', 'D', 'G', 'I', 'L', 'D']\n"
     ]
    }
   ],
   "source": [
    "word = \"ACADGILD\"\n",
    "lst = [alpha for alpha in word]\n",
    "print(lst)"
   ]
  },
  {
   "cell_type": "code",
   "execution_count": 4,
   "metadata": {},
   "outputs": [
    {
     "name": "stdout",
     "output_type": "stream",
     "text": [
      "['X', 'XX', 'XXX', 'XXXX', 'Y', 'YY', 'YYY', 'YYYY', 'Z', 'ZZ', 'ZZZ', 'ZZZZ']\n"
     ]
    }
   ],
   "source": [
    "word = \"XYZ\"\n",
    "lst = [alpha*num for alpha in word for num in range(1,5)]\n",
    "print(lst)"
   ]
  },
  {
   "cell_type": "code",
   "execution_count": 5,
   "metadata": {},
   "outputs": [
    {
     "name": "stdout",
     "output_type": "stream",
     "text": [
      "['X', 'Y', 'Z', 'XX', 'YY', 'ZZ', 'XXX', 'YYY', 'ZZZ', 'XXXX', 'YYYY', 'ZZZZ']\n"
     ]
    }
   ],
   "source": [
    "word = \"XYZ\"\n",
    "lst = [alpha*num for num in range(1,5) for alpha in word]\n",
    "print(lst)"
   ]
  },
  {
   "cell_type": "code",
   "execution_count": 6,
   "metadata": {},
   "outputs": [
    {
     "name": "stdout",
     "output_type": "stream",
     "text": [
      "[[2], [3], [4], [3], [4], [5], [4], [5], [6]]\n"
     ]
    }
   ],
   "source": [
    "l = [2,3,4]\n",
    "lst = [[i+add] for i in l for add in range(0,3)]\n",
    "print(lst)"
   ]
  },
  {
   "cell_type": "code",
   "execution_count": 7,
   "metadata": {},
   "outputs": [
    {
     "name": "stdout",
     "output_type": "stream",
     "text": [
      "[[2, 3, 4, 5], [3, 4, 5, 6], [4, 5, 6, 7], [5, 6, 7, 8]]\n"
     ]
    }
   ],
   "source": [
    "l = [2,3,4,5]\n",
    "lst = [[i+add for i in l] for add in range(0,4)]\n",
    "print(lst)"
   ]
  },
  {
   "cell_type": "code",
   "execution_count": 8,
   "metadata": {},
   "outputs": [
    {
     "name": "stdout",
     "output_type": "stream",
     "text": [
      "[(1, 1), (2, 1), (3, 1), (1, 2), (2, 2), (3, 2), (1, 3), (2, 3), (3, 3)]\n"
     ]
    }
   ],
   "source": [
    "l = [1,2,3]\n",
    "lst = [(b,a) for a in l for b in l]\n",
    "print(lst)"
   ]
  },
  {
   "cell_type": "markdown",
   "metadata": {},
   "source": [
    "## Q3"
   ]
  },
  {
   "cell_type": "code",
   "execution_count": 9,
   "metadata": {},
   "outputs": [
    {
     "name": "stdout",
     "output_type": "stream",
     "text": [
      "Longest word from the list is:  sanjay\n"
     ]
    }
   ],
   "source": [
    "length = []\n",
    "def logestword(lst):\n",
    "    for i in lst:\n",
    "        length.append(len(i))\n",
    "    return length.index(max(length))\n",
    "   \n",
    "words = ['vijay','sanjay','nale']\n",
    "\n",
    "print('Longest word from the list is: ', words[logestword(words)])"
   ]
  },
  {
   "cell_type": "markdown",
   "metadata": {},
   "source": [
    "# Task 2"
   ]
  },
  {
   "cell_type": "markdown",
   "metadata": {},
   "source": [
    "## Q 1.1"
   ]
  },
  {
   "cell_type": "code",
   "execution_count": 10,
   "metadata": {},
   "outputs": [],
   "source": [
    "class parent:\n",
    "    def __init__(self, no_of_slides):\n",
    "        self.n = no_of_slides\n",
    "        self.sides = [0 for i in range(no_of_slides)]      \n",
    "    def inputsides(self):\n",
    "        self.sides = [float(input(\"Enter sides \"+str(i+1)+\" : \")) for i in range(self.n)]\n",
    "    def displaysides(self):\n",
    "        for i in range(self.n):\n",
    "            print(\"side\",i+1,\"is\", self.sides[i])"
   ]
  },
  {
   "cell_type": "code",
   "execution_count": 11,
   "metadata": {},
   "outputs": [],
   "source": [
    "class child(parent):\n",
    "    def __init__(self):\n",
    "        parent.__init__(self,3)\n",
    "        #super(child,self).__init__(self,3)\n",
    "    def area(self):\n",
    "        a,b,c = self.sides\n",
    "        s = (a + b + c) / 2\n",
    "        area = (s*(s-a)*(s-b)*(s-c)) ** 0.5 \n",
    "        print('The Area of Trangle is %0.2f' %area)"
   ]
  },
  {
   "cell_type": "code",
   "execution_count": 12,
   "metadata": {},
   "outputs": [],
   "source": [
    "t = child()"
   ]
  },
  {
   "cell_type": "code",
   "execution_count": 14,
   "metadata": {},
   "outputs": [
    {
     "name": "stdout",
     "output_type": "stream",
     "text": [
      "Enter sides 1 : 3\n",
      "Enter sides 2 : 4\n",
      "Enter sides 3 : 5\n"
     ]
    }
   ],
   "source": [
    "t.inputsides()"
   ]
  },
  {
   "cell_type": "code",
   "execution_count": 15,
   "metadata": {},
   "outputs": [
    {
     "name": "stdout",
     "output_type": "stream",
     "text": [
      "The Area of Trangle is 6.00\n"
     ]
    }
   ],
   "source": [
    "t.area()"
   ]
  },
  {
   "cell_type": "code",
   "execution_count": 16,
   "metadata": {},
   "outputs": [
    {
     "name": "stdout",
     "output_type": "stream",
     "text": [
      "side 1 is 3.0\n",
      "side 2 is 4.0\n",
      "side 3 is 5.0\n"
     ]
    }
   ],
   "source": [
    "t.displaysides()"
   ]
  },
  {
   "cell_type": "markdown",
   "metadata": {},
   "source": [
    "## Q 1.2"
   ]
  },
  {
   "cell_type": "code",
   "execution_count": 17,
   "metadata": {},
   "outputs": [
    {
     "name": "stdout",
     "output_type": "stream",
     "text": [
      "['shudhanshu', 'vishwjeet']\n"
     ]
    }
   ],
   "source": [
    "def filter_long_words(lst,n):\n",
    "    a = []\n",
    "    for i in range(len(lst)):\n",
    "        if len(lst[i]) > n:\n",
    "            a.append(lst[i])\n",
    "    return a\n",
    "            \n",
    "name = ['vijay','shudhanshu','krish','vishwjeet']\n",
    "num = 5\n",
    "\n",
    "print(filter_long_words(name,num))"
   ]
  },
  {
   "cell_type": "markdown",
   "metadata": {},
   "source": [
    "## Q 2.1"
   ]
  },
  {
   "cell_type": "code",
   "execution_count": 21,
   "metadata": {},
   "outputs": [
    {
     "name": "stdout",
     "output_type": "stream",
     "text": [
      "List has Length of words: [5, 10, 5, 9]\n"
     ]
    }
   ],
   "source": [
    "def len_words(lst):\n",
    "    return list(map(lambda x : len(x), lst))\n",
    "    #return [len(i) for i in lst]\n",
    "\n",
    "name = ['vijay','shudhanshu','krish','vishwjeet']\n",
    "print(\"List has Length of words:\",str(len_words(name)))"
   ]
  },
  {
   "cell_type": "markdown",
   "metadata": {},
   "source": [
    "## Q 2.2"
   ]
  },
  {
   "cell_type": "code",
   "execution_count": 19,
   "metadata": {},
   "outputs": [
    {
     "name": "stdout",
     "output_type": "stream",
     "text": [
      "Enter a charactor: A\n",
      "a is an vowel.\n"
     ]
    }
   ],
   "source": [
    "import sys\n",
    "\n",
    "def vowel_check(char):\n",
    "    #if i/p fails\n",
    "    if char.isalpha() == False:\n",
    "        sys.exit(\"Errors!...Invalid char enter \")\n",
    "    else:\n",
    "        if char == 'a' or char=='e' or char == 'i' or char == 'o' or char =='u':\n",
    "            return True\n",
    "        else:\n",
    "            return False\n",
    "\n",
    "# Take user input\n",
    "char = input('Enter a charactor: ')\n",
    "char = char.lower()\n",
    "\n",
    "if(vowel_check(char)):\n",
    "    print(char , 'is an vowel.')\n",
    "else:\n",
    "    print(char, 'is not a vowel.')"
   ]
  }
 ],
 "metadata": {
  "kernelspec": {
   "display_name": "Python 3",
   "language": "python",
   "name": "python3"
  },
  "language_info": {
   "codemirror_mode": {
    "name": "ipython",
    "version": 3
   },
   "file_extension": ".py",
   "mimetype": "text/x-python",
   "name": "python",
   "nbconvert_exporter": "python",
   "pygments_lexer": "ipython3",
   "version": "3.7.3"
  }
 },
 "nbformat": 4,
 "nbformat_minor": 2
}
