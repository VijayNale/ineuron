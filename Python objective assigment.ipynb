{
 "cells": [
  {
   "cell_type": "raw",
   "metadata": {},
   "source": [
    "Q1) => a"
   ]
  },
  {
   "cell_type": "raw",
   "metadata": {},
   "source": [
    "Q2) => b"
   ]
  },
  {
   "cell_type": "raw",
   "metadata": {},
   "source": [
    "Q3) => b"
   ]
  },
  {
   "cell_type": "raw",
   "metadata": {},
   "source": [
    "Q4) => d"
   ]
  },
  {
   "cell_type": "raw",
   "metadata": {},
   "source": [
    "Q5) => d"
   ]
  },
  {
   "cell_type": "raw",
   "metadata": {},
   "source": [
    "Q6) => c"
   ]
  },
  {
   "cell_type": "raw",
   "metadata": {},
   "source": [
    "Q7) => d"
   ]
  },
  {
   "cell_type": "raw",
   "metadata": {},
   "source": [
    "Q8) => b"
   ]
  },
  {
   "cell_type": "raw",
   "metadata": {},
   "source": [
    "Q9) => d"
   ]
  },
  {
   "cell_type": "raw",
   "metadata": {},
   "source": [
    "Q10) => b"
   ]
  },
  {
   "cell_type": "raw",
   "metadata": {},
   "source": [
    "Q11) => c"
   ]
  },
  {
   "cell_type": "raw",
   "metadata": {},
   "source": [
    "Q12) => a"
   ]
  },
  {
   "cell_type": "raw",
   "metadata": {},
   "source": [
    "Q13) => c"
   ]
  },
  {
   "cell_type": "raw",
   "metadata": {},
   "source": [
    "Q14) => b"
   ]
  },
  {
   "cell_type": "raw",
   "metadata": {},
   "source": [
    "Q15) => b"
   ]
  },
  {
   "cell_type": "raw",
   "metadata": {},
   "source": [
    "Q16) => c"
   ]
  },
  {
   "cell_type": "raw",
   "metadata": {},
   "source": [
    "Q17) => b"
   ]
  },
  {
   "cell_type": "raw",
   "metadata": {},
   "source": [
    "Q18) => d"
   ]
  },
  {
   "cell_type": "raw",
   "metadata": {},
   "source": [
    "Q19) => b"
   ]
  },
  {
   "cell_type": "raw",
   "metadata": {},
   "source": [
    "Q20) => c"
   ]
  },
  {
   "cell_type": "raw",
   "metadata": {},
   "source": [
    "Q21) => b"
   ]
  },
  {
   "cell_type": "raw",
   "metadata": {},
   "source": [
    "Q22) => d"
   ]
  },
  {
   "cell_type": "raw",
   "metadata": {},
   "source": [
    "Q23) => d"
   ]
  },
  {
   "cell_type": "raw",
   "metadata": {},
   "source": [
    "Q24) => c"
   ]
  },
  {
   "cell_type": "raw",
   "metadata": {},
   "source": [
    "Q25) => d"
   ]
  },
  {
   "cell_type": "raw",
   "metadata": {},
   "source": [
    "Q26) => c"
   ]
  },
  {
   "cell_type": "raw",
   "metadata": {},
   "source": [
    "Q27) => b"
   ]
  },
  {
   "cell_type": "raw",
   "metadata": {},
   "source": [
    "Q28) => c"
   ]
  },
  {
   "cell_type": "raw",
   "metadata": {},
   "source": [
    "Q29) => b"
   ]
  },
  {
   "cell_type": "raw",
   "metadata": {},
   "source": [
    "Q30) => c"
   ]
  },
  {
   "cell_type": "raw",
   "metadata": {},
   "source": [
    "Q31) => b"
   ]
  },
  {
   "cell_type": "raw",
   "metadata": {},
   "source": [
    "Q32) => b"
   ]
  },
  {
   "cell_type": "raw",
   "metadata": {},
   "source": [
    "Q33) => b"
   ]
  },
  {
   "cell_type": "raw",
   "metadata": {},
   "source": [
    "Q34) => b"
   ]
  },
  {
   "cell_type": "raw",
   "metadata": {},
   "source": [
    "Q35) => c"
   ]
  },
  {
   "cell_type": "raw",
   "metadata": {},
   "source": [
    "Q36) => a"
   ]
  },
  {
   "cell_type": "raw",
   "metadata": {},
   "source": [
    "Q37) => c"
   ]
  },
  {
   "cell_type": "raw",
   "metadata": {},
   "source": [
    "Q38) => a"
   ]
  },
  {
   "cell_type": "raw",
   "metadata": {},
   "source": [
    "Q39) => b"
   ]
  },
  {
   "cell_type": "raw",
   "metadata": {},
   "source": [
    "Q40) => c"
   ]
  },
  {
   "cell_type": "raw",
   "metadata": {},
   "source": [
    "Q41) => a"
   ]
  },
  {
   "cell_type": "raw",
   "metadata": {},
   "source": [
    "Q42) => a"
   ]
  },
  {
   "cell_type": "raw",
   "metadata": {},
   "source": [
    "Q43) => c"
   ]
  },
  {
   "cell_type": "raw",
   "metadata": {},
   "source": [
    "Q44) => b"
   ]
  },
  {
   "cell_type": "raw",
   "metadata": {},
   "source": [
    "Q45) => c"
   ]
  },
  {
   "cell_type": "raw",
   "metadata": {},
   "source": [
    "Q46) => b"
   ]
  },
  {
   "cell_type": "raw",
   "metadata": {},
   "source": [
    "Q47) => d"
   ]
  },
  {
   "cell_type": "raw",
   "metadata": {},
   "source": [
    "Q48) => a"
   ]
  },
  {
   "cell_type": "raw",
   "metadata": {},
   "source": [
    "Q49) => c"
   ]
  },
  {
   "cell_type": "raw",
   "metadata": {},
   "source": [
    "Q50) => d"
   ]
  },
  {
   "cell_type": "raw",
   "metadata": {},
   "source": [
    "Q51) => a"
   ]
  },
  {
   "cell_type": "raw",
   "metadata": {},
   "source": [
    "Q52) => b"
   ]
  },
  {
   "cell_type": "raw",
   "metadata": {},
   "source": [
    "Q53) => b"
   ]
  },
  {
   "cell_type": "raw",
   "metadata": {},
   "source": [
    "Q54) => c"
   ]
  },
  {
   "cell_type": "raw",
   "metadata": {},
   "source": [
    "Q55) => c"
   ]
  },
  {
   "cell_type": "raw",
   "metadata": {},
   "source": [
    "Q56) => d"
   ]
  },
  {
   "cell_type": "raw",
   "metadata": {},
   "source": [
    "Q57) => b,c,e"
   ]
  },
  {
   "cell_type": "raw",
   "metadata": {},
   "source": [
    "Q58) => animals/feline"
   ]
  },
  {
   "cell_type": "raw",
   "metadata": {},
   "source": [
    "Q59) => open('jack_russell.png', 'rb')"
   ]
  },
  {
   "cell_type": "raw",
   "metadata": {},
   "source": [
    "Q60) => Import os \n",
    "        os.chdir(animals/ursine/bears.gif)"
   ]
  },
  {
   "cell_type": "raw",
   "metadata": {},
   "source": [
    "Q61) => d"
   ]
  },
  {
   "cell_type": "raw",
   "metadata": {},
   "source": [
    "Q62) => os.path.relpath(‘..\\\\..feline’, ‘animals\\\\ursine’)"
   ]
  },
  {
   "cell_type": "raw",
   "metadata": {},
   "source": [
    "Q63) => b"
   ]
  },
  {
   "cell_type": "raw",
   "metadata": {},
   "source": [
    "Q64) => a"
   ]
  },
  {
   "cell_type": "raw",
   "metadata": {},
   "source": [
    "Q65) => b"
   ]
  },
  {
   "cell_type": "raw",
   "metadata": {},
   "source": [
    "Q66) => d"
   ]
  },
  {
   "cell_type": "raw",
   "metadata": {},
   "source": [
    "Q67) => a"
   ]
  },
  {
   "cell_type": "raw",
   "metadata": {},
   "source": [
    "Q68) => d"
   ]
  },
  {
   "cell_type": "raw",
   "metadata": {},
   "source": [
    "Q69) => a"
   ]
  },
  {
   "cell_type": "raw",
   "metadata": {},
   "source": [
    "Q70) => a"
   ]
  },
  {
   "cell_type": "raw",
   "metadata": {},
   "source": [
    "Q71) => c"
   ]
  },
  {
   "cell_type": "raw",
   "metadata": {},
   "source": [
    "Q72) => b"
   ]
  },
  {
   "cell_type": "raw",
   "metadata": {},
   "source": [
    "Q73) => a"
   ]
  },
  {
   "cell_type": "raw",
   "metadata": {},
   "source": [
    "Q74) => d"
   ]
  },
  {
   "cell_type": "raw",
   "metadata": {},
   "source": [
    "Q75) => b"
   ]
  },
  {
   "cell_type": "raw",
   "metadata": {},
   "source": [
    "Q76) => a"
   ]
  },
  {
   "cell_type": "raw",
   "metadata": {},
   "source": [
    "Q77) => a"
   ]
  },
  {
   "cell_type": "raw",
   "metadata": {},
   "source": [
    "Q78) => d"
   ]
  },
  {
   "cell_type": "raw",
   "metadata": {},
   "source": [
    "Q79) => b"
   ]
  },
  {
   "cell_type": "raw",
   "metadata": {},
   "source": [
    "Q80) => d"
   ]
  },
  {
   "cell_type": "raw",
   "metadata": {},
   "source": [
    "Q81) => c"
   ]
  },
  {
   "cell_type": "raw",
   "metadata": {},
   "source": [
    "Q82) => a"
   ]
  },
  {
   "cell_type": "raw",
   "metadata": {},
   "source": [
    "Q83) => a"
   ]
  },
  {
   "cell_type": "raw",
   "metadata": {},
   "source": [
    "Q84) => c"
   ]
  },
  {
   "cell_type": "raw",
   "metadata": {},
   "source": [
    "Q85) => d"
   ]
  },
  {
   "cell_type": "raw",
   "metadata": {},
   "source": [
    "Q86) => a"
   ]
  },
  {
   "cell_type": "raw",
   "metadata": {},
   "source": [
    "Q87) => b"
   ]
  },
  {
   "cell_type": "raw",
   "metadata": {},
   "source": [
    "Q88) => d"
   ]
  },
  {
   "cell_type": "raw",
   "metadata": {},
   "source": [
    "Q89) => c"
   ]
  },
  {
   "cell_type": "raw",
   "metadata": {},
   "source": [
    "Q90) => c"
   ]
  },
  {
   "cell_type": "raw",
   "metadata": {},
   "source": [
    "Q91) => b"
   ]
  },
  {
   "cell_type": "raw",
   "metadata": {},
   "source": [
    "Q92) => c"
   ]
  },
  {
   "cell_type": "raw",
   "metadata": {},
   "source": [
    "Q93) => d"
   ]
  },
  {
   "cell_type": "raw",
   "metadata": {},
   "source": [
    "Q94) => d"
   ]
  },
  {
   "cell_type": "raw",
   "metadata": {},
   "source": [
    "Q95) => b"
   ]
  },
  {
   "cell_type": "raw",
   "metadata": {},
   "source": [
    "Q96) => d"
   ]
  },
  {
   "cell_type": "raw",
   "metadata": {},
   "source": [
    "Q97) => c"
   ]
  },
  {
   "cell_type": "raw",
   "metadata": {},
   "source": [
    "Q98) => c"
   ]
  },
  {
   "cell_type": "raw",
   "metadata": {},
   "source": [
    "Q99) => b"
   ]
  },
  {
   "cell_type": "raw",
   "metadata": {},
   "source": [
    "Q100) => a"
   ]
  },
  {
   "cell_type": "raw",
   "metadata": {},
   "source": [
    "Q101) => c"
   ]
  },
  {
   "cell_type": "raw",
   "metadata": {},
   "source": [
    "Q102) => a"
   ]
  },
  {
   "cell_type": "raw",
   "metadata": {},
   "source": [
    "Q103) => a"
   ]
  },
  {
   "cell_type": "raw",
   "metadata": {},
   "source": [
    "Q104) => d"
   ]
  },
  {
   "cell_type": "raw",
   "metadata": {},
   "source": [
    "Q105) => b"
   ]
  },
  {
   "cell_type": "raw",
   "metadata": {},
   "source": [
    "Q106) => a"
   ]
  },
  {
   "cell_type": "raw",
   "metadata": {},
   "source": [
    "Q107) => a"
   ]
  },
  {
   "cell_type": "raw",
   "metadata": {},
   "source": [
    "Q108) => b"
   ]
  },
  {
   "cell_type": "raw",
   "metadata": {},
   "source": [
    "Q109) => a"
   ]
  },
  {
   "cell_type": "raw",
   "metadata": {},
   "source": [
    "Q110) => d"
   ]
  },
  {
   "cell_type": "raw",
   "metadata": {},
   "source": [
    "Q111) => c"
   ]
  },
  {
   "cell_type": "raw",
   "metadata": {},
   "source": [
    "Q112) => b"
   ]
  },
  {
   "cell_type": "raw",
   "metadata": {},
   "source": [
    "Q113) => a"
   ]
  },
  {
   "cell_type": "raw",
   "metadata": {},
   "source": [
    "Q114) => b"
   ]
  },
  {
   "cell_type": "raw",
   "metadata": {},
   "source": [
    "Q115) => c"
   ]
  },
  {
   "cell_type": "raw",
   "metadata": {},
   "source": [
    "Q116) => b"
   ]
  },
  {
   "cell_type": "raw",
   "metadata": {},
   "source": [
    "Q117) => b"
   ]
  },
  {
   "cell_type": "raw",
   "metadata": {},
   "source": [
    "Q118) => c"
   ]
  },
  {
   "cell_type": "raw",
   "metadata": {},
   "source": [
    "Q119) => a"
   ]
  },
  {
   "cell_type": "raw",
   "metadata": {},
   "source": [
    "Q120) => a"
   ]
  },
  {
   "cell_type": "raw",
   "metadata": {},
   "source": [
    "Q121) => c"
   ]
  },
  {
   "cell_type": "raw",
   "metadata": {},
   "source": [
    "Q122) => d"
   ]
  },
  {
   "cell_type": "raw",
   "metadata": {},
   "source": [
    "Q123) => a"
   ]
  },
  {
   "cell_type": "raw",
   "metadata": {},
   "source": [
    "Q124) => a"
   ]
  },
  {
   "cell_type": "raw",
   "metadata": {},
   "source": [
    "Q125) => c"
   ]
  },
  {
   "cell_type": "raw",
   "metadata": {},
   "source": [
    "Q126) => a"
   ]
  },
  {
   "cell_type": "raw",
   "metadata": {},
   "source": [
    "Q127) => b"
   ]
  },
  {
   "cell_type": "raw",
   "metadata": {},
   "source": [
    "Q128) => c"
   ]
  },
  {
   "cell_type": "raw",
   "metadata": {},
   "source": [
    "Q129) => a"
   ]
  },
  {
   "cell_type": "raw",
   "metadata": {},
   "source": [
    "Q130) => a"
   ]
  },
  {
   "cell_type": "raw",
   "metadata": {},
   "source": [
    "Q131) => a"
   ]
  },
  {
   "cell_type": "raw",
   "metadata": {},
   "source": [
    "Q132) => a "
   ]
  },
  {
   "cell_type": "raw",
   "metadata": {},
   "source": [
    "Q133) => a "
   ]
  },
  {
   "cell_type": "raw",
   "metadata": {},
   "source": [
    "Q134) => a"
   ]
  },
  {
   "cell_type": "raw",
   "metadata": {},
   "source": [
    "Q135) => c"
   ]
  },
  {
   "cell_type": "raw",
   "metadata": {},
   "source": [
    "Q136) => b"
   ]
  },
  {
   "cell_type": "raw",
   "metadata": {},
   "source": [
    "Q137) => b"
   ]
  },
  {
   "cell_type": "raw",
   "metadata": {},
   "source": [
    "Q138) => a"
   ]
  },
  {
   "cell_type": "raw",
   "metadata": {},
   "source": [
    "Q139) => b"
   ]
  },
  {
   "cell_type": "raw",
   "metadata": {},
   "source": [
    "Q140) => a"
   ]
  },
  {
   "cell_type": "raw",
   "metadata": {},
   "source": [
    "Q141) => b"
   ]
  },
  {
   "cell_type": "raw",
   "metadata": {},
   "source": [
    "Q142) => d"
   ]
  },
  {
   "cell_type": "raw",
   "metadata": {},
   "source": [
    "Q143) => d"
   ]
  },
  {
   "cell_type": "raw",
   "metadata": {},
   "source": [
    "Q144) => a"
   ]
  },
  {
   "cell_type": "raw",
   "metadata": {},
   "source": [
    "Q145) => a"
   ]
  },
  {
   "cell_type": "raw",
   "metadata": {},
   "source": [
    "Q146) => a"
   ]
  },
  {
   "cell_type": "raw",
   "metadata": {},
   "source": [
    "Q147) => b"
   ]
  },
  {
   "cell_type": "raw",
   "metadata": {},
   "source": [
    "Q148) => a"
   ]
  },
  {
   "cell_type": "raw",
   "metadata": {},
   "source": [
    "Q149) => b"
   ]
  },
  {
   "cell_type": "raw",
   "metadata": {},
   "source": [
    "Q150) => a"
   ]
  }
 ],
 "metadata": {
  "kernelspec": {
   "display_name": "Python 3",
   "language": "python",
   "name": "python3"
  },
  "language_info": {
   "codemirror_mode": {
    "name": "ipython",
    "version": 3
   },
   "file_extension": ".py",
   "mimetype": "text/x-python",
   "name": "python",
   "nbconvert_exporter": "python",
   "pygments_lexer": "ipython3",
   "version": "3.7.3"
  }
 },
 "nbformat": 4,
 "nbformat_minor": 2
}
