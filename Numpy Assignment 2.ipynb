{
 "cells": [
  {
   "cell_type": "markdown",
   "metadata": {},
   "source": [
    "# Q1"
   ]
  },
  {
   "cell_type": "code",
   "execution_count": 7,
   "metadata": {},
   "outputs": [
    {
     "name": "stdout",
     "output_type": "stream",
     "text": [
      "[[ 1  1  1  1]\n",
      " [ 8  4  2  1]\n",
      " [27  9  3  1]\n",
      " [64 16  4  1]]\n"
     ]
    }
   ],
   "source": [
    "import numpy as np\n",
    "vec = np.array([1,2,3,4])\n",
    "N = 4\n",
    "ls = []\n",
    "def func(v,n):\n",
    "    for i in range(n):\n",
    "        ls.append(vec**(N-1-i)) \n",
    "    return np.column_stack(ls)\n",
    "        \n",
    "mat = func(vec,N)\n",
    "print(mat)"
   ]
  },
  {
   "cell_type": "markdown",
   "metadata": {},
   "source": [
    "# Q2"
   ]
  },
  {
   "cell_type": "code",
   "execution_count": 20,
   "metadata": {},
   "outputs": [
    {
     "name": "stdout",
     "output_type": "stream",
     "text": [
      "List : [  3   5   7   2   8  10  11  65  72  81  99 100 150]\n",
      "\n",
      "Moving average based on 3 window size:\n",
      "[  5.     4.67   5.67   6.67   9.67  28.67  49.33  72.67  84.    93.33\n",
      " 116.33]\n"
     ]
    }
   ],
   "source": [
    "def moving_Avg(ls,n):\n",
    "    csum = np.cumsum(ls,dtype=float)\n",
    "    csum[n:] = csum[n:] - csum[:-n]\n",
    "    return csum[n-1:]/n    \n",
    "\n",
    "window =3\n",
    "ls = np.array([3, 5, 7, 2, 8, 10, 11, 65, 72, 81, 99, 100, 150])\n",
    "print('List :',ls)\n",
    "print('\\nMoving average based on 3 window size:')\n",
    "print(moving_Avg(ls,window).round(2))"
   ]
  },
  {
   "cell_type": "code",
   "execution_count": null,
   "metadata": {},
   "outputs": [],
   "source": []
  }
 ],
 "metadata": {
  "kernelspec": {
   "display_name": "Python 3",
   "language": "python",
   "name": "python3"
  },
  "language_info": {
   "codemirror_mode": {
    "name": "ipython",
    "version": 3
   },
   "file_extension": ".py",
   "mimetype": "text/x-python",
   "name": "python",
   "nbconvert_exporter": "python",
   "pygments_lexer": "ipython3",
   "version": "3.7.3"
  }
 },
 "nbformat": 4,
 "nbformat_minor": 2
}
