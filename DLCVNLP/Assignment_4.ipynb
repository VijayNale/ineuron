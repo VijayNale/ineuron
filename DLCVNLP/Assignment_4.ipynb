{
 "cells": [
  {
   "cell_type": "markdown",
   "metadata": {},
   "source": [
    "# Q 1.1"
   ]
  },
  {
   "cell_type": "code",
   "execution_count": 7,
   "metadata": {},
   "outputs": [],
   "source": [
    "class parent:\n",
    "    def __init__(self, no_of_slides):\n",
    "        self.n = no_of_slides\n",
    "        self.sides = [0 for i in range(no_of_slides)]      \n",
    "    def inputsides(self):\n",
    "        self.sides = [float(input(\"Enter sides \"+str(i+1)+\" : \")) for i in range(self.n)]\n",
    "    def displaysides(self):\n",
    "        for i in range(self.n):\n",
    "            print(\"side\",i+1,\"is\", self.sides[i])\n",
    "\n",
    "class child(parent):\n",
    "    def __init__(self):\n",
    "        parent.__init__(self,3)\n",
    "        #super(child,self).__init__(self,3)\n",
    "    def area(self):\n",
    "        a,b,c = self.sides\n",
    "        s = (a + b + c) / 2\n",
    "        area = (s*(s-a)*(s-b)*(s-c)) ** 0.5 \n",
    "        print('The Area of Trangle is %0.2f' %area)"
   ]
  },
  {
   "cell_type": "code",
   "execution_count": 8,
   "metadata": {},
   "outputs": [
    {
     "name": "stdout",
     "output_type": "stream",
     "text": [
      "Enter sides 1 : 3\n",
      "Enter sides 2 : 4\n",
      "Enter sides 3 : 5\n"
     ]
    }
   ],
   "source": [
    "t = child()\n",
    "t.inputsides()"
   ]
  },
  {
   "cell_type": "code",
   "execution_count": 9,
   "metadata": {},
   "outputs": [
    {
     "name": "stdout",
     "output_type": "stream",
     "text": [
      "The Area of Trangle is 6.00\n"
     ]
    }
   ],
   "source": [
    "t.area()"
   ]
  },
  {
   "cell_type": "code",
   "execution_count": 10,
   "metadata": {},
   "outputs": [
    {
     "name": "stdout",
     "output_type": "stream",
     "text": [
      "side 1 is 3.0\n",
      "side 2 is 4.0\n",
      "side 3 is 5.0\n"
     ]
    }
   ],
   "source": [
    "t.displaysides()"
   ]
  },
  {
   "cell_type": "markdown",
   "metadata": {},
   "source": [
    "# Q 1.2"
   ]
  },
  {
   "cell_type": "code",
   "execution_count": 11,
   "metadata": {},
   "outputs": [
    {
     "name": "stdout",
     "output_type": "stream",
     "text": [
      "['vishwjeet', 'Dattatray']\n"
     ]
    }
   ],
   "source": [
    "def filter_long_words(lst,n):\n",
    "    a = []\n",
    "    for i in range(len(lst)):\n",
    "        if len(lst[i]) > n:\n",
    "            a.append(lst[i])\n",
    "    return a\n",
    "            \n",
    "name = ['vijay','vishwjeet','omkar','Dattatray']\n",
    "num = 5\n",
    "\n",
    "print(filter_long_words(name,num))"
   ]
  },
  {
   "cell_type": "markdown",
   "metadata": {},
   "source": [
    "# Q 2.1"
   ]
  },
  {
   "cell_type": "code",
   "execution_count": 13,
   "metadata": {},
   "outputs": [
    {
     "name": "stdout",
     "output_type": "stream",
     "text": [
      "List has Length of words: [5, 6, 3, 9]\n"
     ]
    }
   ],
   "source": [
    "def len_words(lst):\n",
    "    return list(map(lambda x : len(x), lst))\n",
    "\n",
    "name = ['vijay','rishab','raj','vishwjeet']\n",
    "print(\"List has Length of words:\",str(len_words(name)))"
   ]
  },
  {
   "cell_type": "markdown",
   "metadata": {},
   "source": [
    "# Q 2.2"
   ]
  },
  {
   "cell_type": "code",
   "execution_count": 24,
   "metadata": {},
   "outputs": [
    {
     "name": "stdout",
     "output_type": "stream",
     "text": [
      "Enter a charactor: E\n",
      "True E is an vowel.\n"
     ]
    }
   ],
   "source": [
    "import sys\n",
    "\n",
    "def vowel_check(char):\n",
    "    if char.isalpha() == False:\n",
    "        sys.exit(\"Errors!...Invalid char enter \")\n",
    "    else:\n",
    "        if char == 'a' or char=='e' or char == 'i' or char == 'o' or char =='u':\n",
    "            return True\n",
    "        else:\n",
    "            return False\n",
    "\n",
    "char = input('Enter a charactor: ')\n",
    "c = char.lower()\n",
    "\n",
    "if(vowel_check(c)):\n",
    "    print(\"True\",char , 'is an vowel.')\n",
    "else:\n",
    "    print(\"False\",char, 'is not a vowel.')"
   ]
  }
 ],
 "metadata": {
  "kernelspec": {
   "display_name": "Python 3",
   "language": "python",
   "name": "python3"
  },
  "language_info": {
   "codemirror_mode": {
    "name": "ipython",
    "version": 3
   },
   "file_extension": ".py",
   "mimetype": "text/x-python",
   "name": "python",
   "nbconvert_exporter": "python",
   "pygments_lexer": "ipython3",
   "version": "3.7.3"
  }
 },
 "nbformat": 4,
 "nbformat_minor": 2
}
