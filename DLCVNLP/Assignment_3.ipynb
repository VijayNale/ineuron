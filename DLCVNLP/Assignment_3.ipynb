{
 "cells": [
  {
   "cell_type": "markdown",
   "metadata": {},
   "source": [
    "# Q 1.1"
   ]
  },
  {
   "cell_type": "code",
   "execution_count": 4,
   "metadata": {},
   "outputs": [
    {
     "name": "stdout",
     "output_type": "stream",
     "text": [
      "Find out Gretest num from the list:  89\n"
     ]
    }
   ],
   "source": [
    "def myreduce(func,lst):\n",
    "    result = lst[0]\n",
    "    for i in lst[1:]:\n",
    "        result = func(result,i)\n",
    "    return result\n",
    "\n",
    "def sum(x,y):\n",
    "    if x > y:\n",
    "        return x\n",
    "    else:\n",
    "        return y\n",
    "\n",
    "lst = [23,34,54,67,89,21,23]\n",
    "\n",
    "print('Find out Gretest num from the list: ', myreduce(sum,lst))"
   ]
  },
  {
   "cell_type": "markdown",
   "metadata": {},
   "source": [
    "#  Q 1.2"
   ]
  },
  {
   "cell_type": "code",
   "execution_count": 5,
   "metadata": {},
   "outputs": [
    {
     "name": "stdout",
     "output_type": "stream",
     "text": [
      "Find out even num from the list [4, 34, 54, 44, 6, 10]\n"
     ]
    }
   ],
   "source": [
    "result = []\n",
    "def myfilter(func,lst):\n",
    "    for i in lst:\n",
    "        if(func(i)):\n",
    "            result.append(i)\n",
    "\n",
    "    return result\n",
    "\n",
    "def even(i):\n",
    "    if i%2 == 0:\n",
    "        return True\n",
    "    else:\n",
    "        return False\n",
    "    \n",
    "lst = [4,23,34,54,67,89,21,23,44,21,5,6,9,10]\n",
    "\n",
    "print('Find out even num from the list', myfilter(even,lst))"
   ]
  },
  {
   "cell_type": "markdown",
   "metadata": {},
   "source": [
    "# Q 2"
   ]
  },
  {
   "cell_type": "code",
   "execution_count": 6,
   "metadata": {},
   "outputs": [
    {
     "name": "stdout",
     "output_type": "stream",
     "text": [
      "['X', 'XX', 'XXX', 'XXXX', 'Y', 'YY', 'YYY', 'YYYY', 'Z', 'ZZ', 'ZZZ', 'ZZZZ']\n"
     ]
    }
   ],
   "source": [
    "word = \"XYZ\"\n",
    "lst = [alpha*num for alpha in word for num in range(1,5)]\n",
    "print(lst)"
   ]
  },
  {
   "cell_type": "code",
   "execution_count": 7,
   "metadata": {},
   "outputs": [
    {
     "name": "stdout",
     "output_type": "stream",
     "text": [
      "['X', 'Y', 'Z', 'XX', 'YY', 'ZZ', 'XXX', 'YYY', 'ZZZ', 'XXXX', 'YYYY', 'ZZZZ']\n"
     ]
    }
   ],
   "source": [
    "word = \"XYZ\"\n",
    "lst = [alpha*num for num in range(1,5) for alpha in word]\n",
    "print(lst)"
   ]
  },
  {
   "cell_type": "code",
   "execution_count": 8,
   "metadata": {},
   "outputs": [
    {
     "name": "stdout",
     "output_type": "stream",
     "text": [
      "[[2], [3], [4], [3], [4], [5], [4], [5], [6]]\n"
     ]
    }
   ],
   "source": [
    "l = [2,3,4]\n",
    "lst = [[i+add] for i in l for add in range(0,3)]\n",
    "print(lst)"
   ]
  },
  {
   "cell_type": "code",
   "execution_count": 9,
   "metadata": {},
   "outputs": [
    {
     "name": "stdout",
     "output_type": "stream",
     "text": [
      "[[2, 3, 4, 5], [3, 4, 5, 6], [4, 5, 6, 7], [5, 6, 7, 8]]\n"
     ]
    }
   ],
   "source": [
    "l = [2,3,4,5]\n",
    "lst = [[i+add for i in l] for add in range(0,4)]\n",
    "print(lst)"
   ]
  },
  {
   "cell_type": "code",
   "execution_count": 10,
   "metadata": {},
   "outputs": [
    {
     "name": "stdout",
     "output_type": "stream",
     "text": [
      "[(1, 1), (2, 1), (3, 1), (1, 2), (2, 2), (3, 2), (1, 3), (2, 3), (3, 3)]\n"
     ]
    }
   ],
   "source": [
    "l = [1,2,3]\n",
    "lst = [(b,a) for a in l for b in l]\n",
    "print(lst)"
   ]
  }
 ],
 "metadata": {
  "kernelspec": {
   "display_name": "Python 3",
   "language": "python",
   "name": "python3"
  },
  "language_info": {
   "codemirror_mode": {
    "name": "ipython",
    "version": 3
   },
   "file_extension": ".py",
   "mimetype": "text/x-python",
   "name": "python",
   "nbconvert_exporter": "python",
   "pygments_lexer": "ipython3",
   "version": "3.7.3"
  }
 },
 "nbformat": 4,
 "nbformat_minor": 2
}
